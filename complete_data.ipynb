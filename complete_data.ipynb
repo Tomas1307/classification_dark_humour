{
 "cells": [
  {
   "cell_type": "code",
   "execution_count": 43,
   "metadata": {},
   "outputs": [],
   "source": [
    "import pandas as pd"
   ]
  },
  {
   "cell_type": "code",
   "execution_count": 44,
   "metadata": {},
   "outputs": [],
   "source": [
    "df_chistes_humor = pd.read_csv(\"data/classification/chistes_y_memes_clasificados_completos.csv\")"
   ]
  },
  {
   "cell_type": "code",
   "execution_count": 45,
   "metadata": {},
   "outputs": [
    {
     "data": {
      "text/html": [
       "<div>\n",
       "<style scoped>\n",
       "    .dataframe tbody tr th:only-of-type {\n",
       "        vertical-align: middle;\n",
       "    }\n",
       "\n",
       "    .dataframe tbody tr th {\n",
       "        vertical-align: top;\n",
       "    }\n",
       "\n",
       "    .dataframe thead th {\n",
       "        text-align: right;\n",
       "    }\n",
       "</style>\n",
       "<table border=\"1\" class=\"dataframe\">\n",
       "  <thead>\n",
       "    <tr style=\"text-align: right;\">\n",
       "      <th></th>\n",
       "      <th>id_chiste</th>\n",
       "      <th>Chistes</th>\n",
       "      <th>nivel_risa</th>\n",
       "    </tr>\n",
       "  </thead>\n",
       "  <tbody>\n",
       "    <tr>\n",
       "      <th>0</th>\n",
       "      <td>1</td>\n",
       "      <td>1.png</td>\n",
       "      <td>4</td>\n",
       "    </tr>\n",
       "    <tr>\n",
       "      <th>1</th>\n",
       "      <td>2</td>\n",
       "      <td>2.png</td>\n",
       "      <td>2</td>\n",
       "    </tr>\n",
       "    <tr>\n",
       "      <th>2</th>\n",
       "      <td>3</td>\n",
       "      <td>3.png</td>\n",
       "      <td>3</td>\n",
       "    </tr>\n",
       "    <tr>\n",
       "      <th>3</th>\n",
       "      <td>4</td>\n",
       "      <td>4.jpeg</td>\n",
       "      <td>3</td>\n",
       "    </tr>\n",
       "    <tr>\n",
       "      <th>4</th>\n",
       "      <td>5</td>\n",
       "      <td>5.jpeg</td>\n",
       "      <td>2</td>\n",
       "    </tr>\n",
       "    <tr>\n",
       "      <th>...</th>\n",
       "      <td>...</td>\n",
       "      <td>...</td>\n",
       "      <td>...</td>\n",
       "    </tr>\n",
       "    <tr>\n",
       "      <th>10099</th>\n",
       "      <td>10113</td>\n",
       "      <td>¿Por qué los franceses comen caracoles?\\n Por...</td>\n",
       "      <td>3</td>\n",
       "    </tr>\n",
       "    <tr>\n",
       "      <th>10100</th>\n",
       "      <td>10114</td>\n",
       "      <td>¿Qué le dice el 1 al 10?\\n Para ser como yo d...</td>\n",
       "      <td>1</td>\n",
       "    </tr>\n",
       "    <tr>\n",
       "      <th>10101</th>\n",
       "      <td>10115</td>\n",
       "      <td>¿Sabes qué le dice una piedra a otra?\\n ¡La v...</td>\n",
       "      <td>2</td>\n",
       "    </tr>\n",
       "    <tr>\n",
       "      <th>10102</th>\n",
       "      <td>10116</td>\n",
       "      <td>¿Por qué está tan feliz siempre la escoba?\\n ...</td>\n",
       "      <td>2</td>\n",
       "    </tr>\n",
       "    <tr>\n",
       "      <th>10103</th>\n",
       "      <td>10117</td>\n",
       "      <td>¿Cuál es el colmo de una cabra?\\n Que los hij...</td>\n",
       "      <td>1</td>\n",
       "    </tr>\n",
       "  </tbody>\n",
       "</table>\n",
       "<p>10104 rows × 3 columns</p>\n",
       "</div>"
      ],
      "text/plain": [
       "       id_chiste                                            Chistes  \\\n",
       "0              1                                              1.png   \n",
       "1              2                                              2.png   \n",
       "2              3                                              3.png   \n",
       "3              4                                             4.jpeg   \n",
       "4              5                                             5.jpeg   \n",
       "...          ...                                                ...   \n",
       "10099      10113   ¿Por qué los franceses comen caracoles?\\n Por...   \n",
       "10100      10114   ¿Qué le dice el 1 al 10?\\n Para ser como yo d...   \n",
       "10101      10115   ¿Sabes qué le dice una piedra a otra?\\n ¡La v...   \n",
       "10102      10116   ¿Por qué está tan feliz siempre la escoba?\\n ...   \n",
       "10103      10117   ¿Cuál es el colmo de una cabra?\\n Que los hij...   \n",
       "\n",
       "       nivel_risa  \n",
       "0               4  \n",
       "1               2  \n",
       "2               3  \n",
       "3               3  \n",
       "4               2  \n",
       "...           ...  \n",
       "10099           3  \n",
       "10100           1  \n",
       "10101           2  \n",
       "10102           2  \n",
       "10103           1  \n",
       "\n",
       "[10104 rows x 3 columns]"
      ]
     },
     "execution_count": 45,
     "metadata": {},
     "output_type": "execute_result"
    }
   ],
   "source": [
    "df_chistes_humor"
   ]
  },
  {
   "cell_type": "code",
   "execution_count": 46,
   "metadata": {},
   "outputs": [],
   "source": [
    "df_chistes_gpt1 = pd.read_csv(\"data/classification/Chistes_GPT.csv\", encoding=\"latin1\",sep=\";\")\n"
   ]
  },
  {
   "cell_type": "code",
   "execution_count": 47,
   "metadata": {},
   "outputs": [
    {
     "data": {
      "text/html": [
       "<div>\n",
       "<style scoped>\n",
       "    .dataframe tbody tr th:only-of-type {\n",
       "        vertical-align: middle;\n",
       "    }\n",
       "\n",
       "    .dataframe tbody tr th {\n",
       "        vertical-align: top;\n",
       "    }\n",
       "\n",
       "    .dataframe thead th {\n",
       "        text-align: right;\n",
       "    }\n",
       "</style>\n",
       "<table border=\"1\" class=\"dataframe\">\n",
       "  <thead>\n",
       "    <tr style=\"text-align: right;\">\n",
       "      <th></th>\n",
       "      <th>ID</th>\n",
       "      <th>Descripcion</th>\n",
       "    </tr>\n",
       "  </thead>\n",
       "  <tbody>\n",
       "    <tr>\n",
       "      <th>0</th>\n",
       "      <td>1</td>\n",
       "      <td>Un nio toca concentrado su flauta en el auto,...</td>\n",
       "    </tr>\n",
       "    <tr>\n",
       "      <th>1</th>\n",
       "      <td>2</td>\n",
       "      <td>Un perro pequeo, con una peluca rubia mal pue...</td>\n",
       "    </tr>\n",
       "    <tr>\n",
       "      <th>2</th>\n",
       "      <td>3</td>\n",
       "      <td>Una estatua con una expresin seria y la mano ...</td>\n",
       "    </tr>\n",
       "    <tr>\n",
       "      <th>3</th>\n",
       "      <td>4</td>\n",
       "      <td>Una cucaracha animada se sienta en un restaura...</td>\n",
       "    </tr>\n",
       "    <tr>\n",
       "      <th>4</th>\n",
       "      <td>5</td>\n",
       "      <td>Un perro pequeo con expresin de incomodidad ...</td>\n",
       "    </tr>\n",
       "    <tr>\n",
       "      <th>...</th>\n",
       "      <td>...</td>\n",
       "      <td>...</td>\n",
       "    </tr>\n",
       "    <tr>\n",
       "      <th>994</th>\n",
       "      <td>995</td>\n",
       "      <td>Un grupo de jugadoras de ftbol con expresin ...</td>\n",
       "    </tr>\n",
       "    <tr>\n",
       "      <th>995</th>\n",
       "      <td>996</td>\n",
       "      <td>Una persona con sobrepeso bailando, acompaada...</td>\n",
       "    </tr>\n",
       "    <tr>\n",
       "      <th>996</th>\n",
       "      <td>997</td>\n",
       "      <td>Un beb recin nacido llorando en una sala de ...</td>\n",
       "    </tr>\n",
       "    <tr>\n",
       "      <th>997</th>\n",
       "      <td>998</td>\n",
       "      <td>Dos imgenes de personajes de anime comparan \"...</td>\n",
       "    </tr>\n",
       "    <tr>\n",
       "      <th>998</th>\n",
       "      <td>999</td>\n",
       "      <td>Una conversacin con un genio. El texto juega ...</td>\n",
       "    </tr>\n",
       "  </tbody>\n",
       "</table>\n",
       "<p>999 rows × 2 columns</p>\n",
       "</div>"
      ],
      "text/plain": [
       "      ID                                        Descripcion\n",
       "0      1  Un nio toca concentrado su flauta en el auto,...\n",
       "1      2  Un perro pequeo, con una peluca rubia mal pue...\n",
       "2      3  Una estatua con una expresin seria y la mano ...\n",
       "3      4  Una cucaracha animada se sienta en un restaura...\n",
       "4      5  Un perro pequeo con expresin de incomodidad ...\n",
       "..   ...                                                ...\n",
       "994  995  Un grupo de jugadoras de ftbol con expresin ...\n",
       "995  996  Una persona con sobrepeso bailando, acompaada...\n",
       "996  997  Un beb recin nacido llorando en una sala de ...\n",
       "997  998  Dos imgenes de personajes de anime comparan \"...\n",
       "998  999  Una conversacin con un genio. El texto juega ...\n",
       "\n",
       "[999 rows x 2 columns]"
      ]
     },
     "execution_count": 47,
     "metadata": {},
     "output_type": "execute_result"
    }
   ],
   "source": [
    "df_chistes_gpt1"
   ]
  },
  {
   "cell_type": "code",
   "execution_count": 48,
   "metadata": {},
   "outputs": [],
   "source": [
    "def clean_text(text):\n",
    "    # Decodificar bytes mal interpretados en texto\n",
    "    text = text.replace('\\x97', 'o').replace('\\x96', 'ni').replace('\\x87', 'a').replace('\\x8e', 'e').replace('\\x92', 'i').replace('\\x81', 'u')\n",
    "    return text"
   ]
  },
  {
   "cell_type": "code",
   "execution_count": 49,
   "metadata": {},
   "outputs": [],
   "source": [
    "df_chistes_gpt1['Descripcion'] = df_chistes_gpt1['Descripcion'].apply(lambda x: clean_text(x))"
   ]
  },
  {
   "cell_type": "code",
   "execution_count": 50,
   "metadata": {},
   "outputs": [],
   "source": [
    "df_chistes_gpt1.rename(columns={\"Descripcion\":\"Chistes\"},inplace=True)"
   ]
  },
  {
   "cell_type": "code",
   "execution_count": 51,
   "metadata": {},
   "outputs": [
    {
     "data": {
      "text/plain": [
       "Index(['ID', 'Chistes'], dtype='object')"
      ]
     },
     "execution_count": 51,
     "metadata": {},
     "output_type": "execute_result"
    }
   ],
   "source": [
    "df_chistes_gpt1.columns"
   ]
  },
  {
   "cell_type": "code",
   "execution_count": 52,
   "metadata": {},
   "outputs": [],
   "source": [
    "df_chistes_gpt2 = pd.read_excel(\"data/classification/memesdescripcion.xlsx\")\n"
   ]
  },
  {
   "cell_type": "code",
   "execution_count": 53,
   "metadata": {},
   "outputs": [
    {
     "data": {
      "text/html": [
       "<div>\n",
       "<style scoped>\n",
       "    .dataframe tbody tr th:only-of-type {\n",
       "        vertical-align: middle;\n",
       "    }\n",
       "\n",
       "    .dataframe tbody tr th {\n",
       "        vertical-align: top;\n",
       "    }\n",
       "\n",
       "    .dataframe thead th {\n",
       "        text-align: right;\n",
       "    }\n",
       "</style>\n",
       "<table border=\"1\" class=\"dataframe\">\n",
       "  <thead>\n",
       "    <tr style=\"text-align: right;\">\n",
       "      <th></th>\n",
       "      <th>Chistes</th>\n",
       "    </tr>\n",
       "  </thead>\n",
       "  <tbody>\n",
       "    <tr>\n",
       "      <th>0</th>\n",
       "      <td>Todo el mundo: se fue la luz.Colombia: mira a ...</td>\n",
       "    </tr>\n",
       "    <tr>\n",
       "      <th>1</th>\n",
       "      <td>Feliz navidad, dentro de pocos dias me quedo s...</td>\n",
       "    </tr>\n",
       "    <tr>\n",
       "      <th>2</th>\n",
       "      <td>Mi esposo dandome terapia de que tenemos que a...</td>\n",
       "    </tr>\n",
       "    <tr>\n",
       "      <th>3</th>\n",
       "      <td>Aprenderprogramacion estudiando una carrera: N...</td>\n",
       "    </tr>\n",
       "    <tr>\n",
       "      <th>4</th>\n",
       "      <td>Cliente despues de comprar el asiento al lado ...</td>\n",
       "    </tr>\n",
       "    <tr>\n",
       "      <th>...</th>\n",
       "      <td>...</td>\n",
       "    </tr>\n",
       "    <tr>\n",
       "      <th>1001</th>\n",
       "      <td>PETER, dime algo bonito que me haga ver las es...</td>\n",
       "    </tr>\n",
       "    <tr>\n",
       "      <th>1002</th>\n",
       "      <td>tengo miedo de salir a la calle y que el googl...</td>\n",
       "    </tr>\n",
       "    <tr>\n",
       "      <th>1003</th>\n",
       "      <td>Yo: que pasó con el codigo que estaba programa...</td>\n",
       "    </tr>\n",
       "    <tr>\n",
       "      <th>1004</th>\n",
       "      <td>esta muy claro que la maldad no tiene limite: ...</td>\n",
       "    </tr>\n",
       "    <tr>\n",
       "      <th>1005</th>\n",
       "      <td>mi robot tesla viendo como le pido que se baje...</td>\n",
       "    </tr>\n",
       "  </tbody>\n",
       "</table>\n",
       "<p>1006 rows × 1 columns</p>\n",
       "</div>"
      ],
      "text/plain": [
       "                                                Chistes\n",
       "0     Todo el mundo: se fue la luz.Colombia: mira a ...\n",
       "1     Feliz navidad, dentro de pocos dias me quedo s...\n",
       "2     Mi esposo dandome terapia de que tenemos que a...\n",
       "3     Aprenderprogramacion estudiando una carrera: N...\n",
       "4     Cliente despues de comprar el asiento al lado ...\n",
       "...                                                 ...\n",
       "1001  PETER, dime algo bonito que me haga ver las es...\n",
       "1002  tengo miedo de salir a la calle y que el googl...\n",
       "1003  Yo: que pasó con el codigo que estaba programa...\n",
       "1004  esta muy claro que la maldad no tiene limite: ...\n",
       "1005  mi robot tesla viendo como le pido que se baje...\n",
       "\n",
       "[1006 rows x 1 columns]"
      ]
     },
     "execution_count": 53,
     "metadata": {},
     "output_type": "execute_result"
    }
   ],
   "source": [
    "df_chistes_gpt2"
   ]
  },
  {
   "cell_type": "code",
   "execution_count": 54,
   "metadata": {},
   "outputs": [
    {
     "name": "stdout",
     "output_type": "stream",
     "text": [
      "                                             Chistes    ID\n",
      "0  Todo el mundo: se fue la luz.Colombia: mira a ...  1000\n",
      "1  Feliz navidad, dentro de pocos dias me quedo s...  1001\n",
      "2  Mi esposo dandome terapia de que tenemos que a...  1002\n",
      "3  Aprenderprogramacion estudiando una carrera: N...  1003\n",
      "4  Cliente despues de comprar el asiento al lado ...  1004\n"
     ]
    }
   ],
   "source": [
    "# Agregar una columna 'ID' que comience desde 1000\n",
    "df_chistes_gpt2['ID'] = range(1000, 1000 + len(df_chistes_gpt2))\n",
    "\n",
    "# Opcional: Verificar la columna ID\n",
    "print(df_chistes_gpt2.head())\n"
   ]
  },
  {
   "cell_type": "code",
   "execution_count": 55,
   "metadata": {},
   "outputs": [],
   "source": [
    "df_text_imagenes = pd.concat([df_chistes_gpt1,df_chistes_gpt2],ignore_index=True)"
   ]
  },
  {
   "cell_type": "code",
   "execution_count": 58,
   "metadata": {},
   "outputs": [],
   "source": [
    "df_chistes_humor['ID'] = range(1, 1 + len(df_chistes_humor))"
   ]
  },
  {
   "cell_type": "code",
   "execution_count": 60,
   "metadata": {},
   "outputs": [
    {
     "data": {
      "text/html": [
       "<div>\n",
       "<style scoped>\n",
       "    .dataframe tbody tr th:only-of-type {\n",
       "        vertical-align: middle;\n",
       "    }\n",
       "\n",
       "    .dataframe tbody tr th {\n",
       "        vertical-align: top;\n",
       "    }\n",
       "\n",
       "    .dataframe thead th {\n",
       "        text-align: right;\n",
       "    }\n",
       "</style>\n",
       "<table border=\"1\" class=\"dataframe\">\n",
       "  <thead>\n",
       "    <tr style=\"text-align: right;\">\n",
       "      <th></th>\n",
       "      <th>id_chiste</th>\n",
       "      <th>Chistes</th>\n",
       "      <th>nivel_risa</th>\n",
       "      <th>ID</th>\n",
       "    </tr>\n",
       "  </thead>\n",
       "  <tbody>\n",
       "    <tr>\n",
       "      <th>0</th>\n",
       "      <td>1</td>\n",
       "      <td>Un ninio toca concentrado su flauta en el auto...</td>\n",
       "      <td>4</td>\n",
       "      <td>1</td>\n",
       "    </tr>\n",
       "    <tr>\n",
       "      <th>1</th>\n",
       "      <td>2</td>\n",
       "      <td>Un perro pequenio, con una peluca rubia mal pu...</td>\n",
       "      <td>2</td>\n",
       "      <td>2</td>\n",
       "    </tr>\n",
       "    <tr>\n",
       "      <th>2</th>\n",
       "      <td>3</td>\n",
       "      <td>Una estatua con una expresion seria y la mano ...</td>\n",
       "      <td>3</td>\n",
       "      <td>3</td>\n",
       "    </tr>\n",
       "    <tr>\n",
       "      <th>3</th>\n",
       "      <td>4</td>\n",
       "      <td>Una cucaracha animada se sienta en un restaura...</td>\n",
       "      <td>3</td>\n",
       "      <td>4</td>\n",
       "    </tr>\n",
       "    <tr>\n",
       "      <th>4</th>\n",
       "      <td>5</td>\n",
       "      <td>Un perro pequenio con expresion de incomodidad...</td>\n",
       "      <td>2</td>\n",
       "      <td>5</td>\n",
       "    </tr>\n",
       "    <tr>\n",
       "      <th>...</th>\n",
       "      <td>...</td>\n",
       "      <td>...</td>\n",
       "      <td>...</td>\n",
       "      <td>...</td>\n",
       "    </tr>\n",
       "    <tr>\n",
       "      <th>10099</th>\n",
       "      <td>10113</td>\n",
       "      <td>¿Por qué los franceses comen caracoles?\\n Por...</td>\n",
       "      <td>3</td>\n",
       "      <td>10100</td>\n",
       "    </tr>\n",
       "    <tr>\n",
       "      <th>10100</th>\n",
       "      <td>10114</td>\n",
       "      <td>¿Qué le dice el 1 al 10?\\n Para ser como yo d...</td>\n",
       "      <td>1</td>\n",
       "      <td>10101</td>\n",
       "    </tr>\n",
       "    <tr>\n",
       "      <th>10101</th>\n",
       "      <td>10115</td>\n",
       "      <td>¿Sabes qué le dice una piedra a otra?\\n ¡La v...</td>\n",
       "      <td>2</td>\n",
       "      <td>10102</td>\n",
       "    </tr>\n",
       "    <tr>\n",
       "      <th>10102</th>\n",
       "      <td>10116</td>\n",
       "      <td>¿Por qué está tan feliz siempre la escoba?\\n ...</td>\n",
       "      <td>2</td>\n",
       "      <td>10103</td>\n",
       "    </tr>\n",
       "    <tr>\n",
       "      <th>10103</th>\n",
       "      <td>10117</td>\n",
       "      <td>¿Cuál es el colmo de una cabra?\\n Que los hij...</td>\n",
       "      <td>1</td>\n",
       "      <td>10104</td>\n",
       "    </tr>\n",
       "  </tbody>\n",
       "</table>\n",
       "<p>10104 rows × 4 columns</p>\n",
       "</div>"
      ],
      "text/plain": [
       "       id_chiste                                            Chistes  \\\n",
       "0              1  Un ninio toca concentrado su flauta en el auto...   \n",
       "1              2  Un perro pequenio, con una peluca rubia mal pu...   \n",
       "2              3  Una estatua con una expresion seria y la mano ...   \n",
       "3              4  Una cucaracha animada se sienta en un restaura...   \n",
       "4              5  Un perro pequenio con expresion de incomodidad...   \n",
       "...          ...                                                ...   \n",
       "10099      10113   ¿Por qué los franceses comen caracoles?\\n Por...   \n",
       "10100      10114   ¿Qué le dice el 1 al 10?\\n Para ser como yo d...   \n",
       "10101      10115   ¿Sabes qué le dice una piedra a otra?\\n ¡La v...   \n",
       "10102      10116   ¿Por qué está tan feliz siempre la escoba?\\n ...   \n",
       "10103      10117   ¿Cuál es el colmo de una cabra?\\n Que los hij...   \n",
       "\n",
       "       nivel_risa     ID  \n",
       "0               4      1  \n",
       "1               2      2  \n",
       "2               3      3  \n",
       "3               3      4  \n",
       "4               2      5  \n",
       "...           ...    ...  \n",
       "10099           3  10100  \n",
       "10100           1  10101  \n",
       "10101           2  10102  \n",
       "10102           2  10103  \n",
       "10103           1  10104  \n",
       "\n",
       "[10104 rows x 4 columns]"
      ]
     },
     "execution_count": 60,
     "metadata": {},
     "output_type": "execute_result"
    }
   ],
   "source": [
    "# Realizar la unión y reemplazo de valores en la columna 'Chistes'\n",
    "df_result = (\n",
    "    df_chistes_humor\n",
    "    .merge(df_text_imagenes[['ID', 'Chistes']], on='ID', how='left', suffixes=('', '_imagen'))\n",
    ")\n",
    "\n",
    "# Reemplazar los valores de 'Chistes' con los de 'Chistes_imagen' si no son nulos\n",
    "df_result['Chistes'] = df_result['Chistes_imagen'].combine_first(df_result['Chistes'])\n",
    "\n",
    "# Eliminar la columna auxiliar 'Chistes_imagen'\n",
    "df_result.drop(columns=['Chistes_imagen'], inplace=True)\n",
    "\n",
    "df_result"
   ]
  },
  {
   "cell_type": "code",
   "execution_count": 66,
   "metadata": {},
   "outputs": [
    {
     "name": "stderr",
     "output_type": "stream",
     "text": [
      "C:\\Users\\acost\\AppData\\Local\\Temp\\ipykernel_47452\\2225231087.py:1: UserWarning: This pattern is interpreted as a regular expression, and has match groups. To actually get the groups, use str.extract.\n",
      "  df_result = df_result[~df_result[\"Chistes\"].str.contains(r\"^\\d+\\.(png|jpg|jpeg)$\", na=False)]\n"
     ]
    }
   ],
   "source": [
    "df_result = df_result[~df_result[\"Chistes\"].str.contains(r\"^\\d+\\.(png|jpg|jpeg)$\", na=False)]\n"
   ]
  },
  {
   "cell_type": "code",
   "execution_count": 68,
   "metadata": {},
   "outputs": [],
   "source": [
    "df_result.reset_index(inplace=True)"
   ]
  },
  {
   "cell_type": "code",
   "execution_count": 71,
   "metadata": {},
   "outputs": [
    {
     "name": "stderr",
     "output_type": "stream",
     "text": [
      "C:\\Users\\acost\\AppData\\Local\\Temp\\ipykernel_47452\\33022820.py:1: SettingWithCopyWarning: \n",
      "A value is trying to be set on a copy of a slice from a DataFrame\n",
      "\n",
      "See the caveats in the documentation: https://pandas.pydata.org/pandas-docs/stable/user_guide/indexing.html#returning-a-view-versus-a-copy\n",
      "  df_result.drop(columns=['index'],inplace=True)\n"
     ]
    }
   ],
   "source": [
    "df_result.drop(columns=['index'],inplace=True)"
   ]
  },
  {
   "cell_type": "code",
   "execution_count": 63,
   "metadata": {},
   "outputs": [],
   "source": [
    "df_result.drop(columns=[\"ID\"],inplace=True)"
   ]
  },
  {
   "cell_type": "code",
   "execution_count": 72,
   "metadata": {},
   "outputs": [],
   "source": [
    "df_result.to_csv(\"complete_dataset_chistes.csv\",index=False)"
   ]
  }
 ],
 "metadata": {
  "kernelspec": {
   "display_name": "Python 3",
   "language": "python",
   "name": "python3"
  },
  "language_info": {
   "codemirror_mode": {
    "name": "ipython",
    "version": 3
   },
   "file_extension": ".py",
   "mimetype": "text/x-python",
   "name": "python",
   "nbconvert_exporter": "python",
   "pygments_lexer": "ipython3",
   "version": "3.11.9"
  }
 },
 "nbformat": 4,
 "nbformat_minor": 2
}
